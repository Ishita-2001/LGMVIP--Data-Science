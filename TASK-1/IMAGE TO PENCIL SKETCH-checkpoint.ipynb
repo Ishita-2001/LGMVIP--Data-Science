#import the library
import cv2

#read image
img=cv2.imread(r'C:\Users\ISHITA\Desktop\ML project\LGPVIP_1\mypic.jpg')

#converting color img(rbg) to gray scal
gr_image=cv2.cvtColor(img,cv2.COLOR_BGR2GRAY)
#saving gray scale img in a new name using write function
#cv2.imwrite('me1.jpg',gr_image)
cv2.imshow('this is gray img',gr_image)

#invert img(255-gr_image),as 255 is the total color values
invert_image=255-gr_image
#save it with a new name
#cv2.imwrite('me2.jpg',invert_image)
cv2.imshow('this is gray img',invert_image)

#blur the img
blur=cv2.GaussianBlur(invert_image,(21,21),0)
#save it with a new name
cv2.imwrite('me3.jpg',blur)

#invert the blurred img
invert_blur=255-blur
#save it with a new name
cv2.imwrite('me4.jpg',invert_blur)

#pencil sketch
pencil_sketch=cv2.divide(gr_image,invert_blur,scale=256.0)
#save it with a new name
cv2.imwrite('me5.jpg',pencil_sketch)

#show all images
cv2.imshow('original image is',img)
cv2.imshow('gray image is',gr_image)
cv2.imshow('inverted image is',invert_image)
cv2.imshow('blurred image is',blur)
cv2.imshow('inverted blur image is',invert_blur)
cv2.imshow('pencil sketch image is',pencil_sketch)
cv2.waitKey()
print('Hey!')

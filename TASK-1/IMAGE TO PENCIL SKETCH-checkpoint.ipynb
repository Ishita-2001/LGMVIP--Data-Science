{
 "cells": [
  {
   "cell_type": "code",
   "execution_count": 1,
   "metadata": {},
   "outputs": [
    {
     "name": "stdout",
     "output_type": "stream",
     "text": [
      "Hey!\n"
     ]
    }
   ],
   "source": [
    "#import the library\n",
    "import cv2\n",
    "\n",
    "#read image\n",
    "img=cv2.imread(r'C:\\Users\\ISHITA\\Desktop\\ML project\\LGPVIP_1\\mypic.jpg')\n",
    "\n",
    "#converting color img(rbg) to gray scal\n",
    "gr_image=cv2.cvtColor(img,cv2.COLOR_BGR2GRAY)\n",
    "#saving gray scale img in a new name using write function\n",
    "#cv2.imwrite('me1.jpg',gr_image)\n",
    "cv2.imshow('this is gray img',gr_image)\n",
    "\n",
    "#invert img(255-gr_image),as 255 is the total color values\n",
    "invert_image=255-gr_image\n",
    "#save it with a new name\n",
    "#cv2.imwrite('me2.jpg',invert_image)\n",
    "cv2.imshow('this is gray img',invert_image)\n",
    "\n",
    "#blur the img\n",
    "blur=cv2.GaussianBlur(invert_image,(21,21),0)\n",
    "#save it with a new name\n",
    "cv2.imwrite('me3.jpg',blur)\n",
    "\n",
    "#invert the blurred img\n",
    "invert_blur=255-blur\n",
    "#save it with a new name\n",
    "cv2.imwrite('me4.jpg',invert_blur)\n",
    "\n",
    "#pencil sketch\n",
    "pencil_sketch=cv2.divide(gr_image,invert_blur,scale=256.0)\n",
    "#save it with a new name\n",
    "cv2.imwrite('me5.jpg',pencil_sketch)\n",
    "\n",
    "#show all images\n",
    "cv2.imshow('original image is',img)\n",
    "cv2.imshow('gray image is',gr_image)\n",
    "cv2.imshow('inverted image is',invert_image)\n",
    "cv2.imshow('blurred image is',blur)\n",
    "cv2.imshow('inverted blur image is',invert_blur)\n",
    "cv2.imshow('pencil sketch image is',pencil_sketch)\n",
    "cv2.waitKey()\n",
    "print('Hey!')"
   ]
  },
  {
   "cell_type": "code",
   "execution_count": null,
   "metadata": {},
   "outputs": [],
   "source": [
    "#invert img(255-gr_image),as 255 is the total color values\n",
    "invert_image=255-gr_image\n",
    "#save it with a new name\n",
    "#cv2.imwrite('me2.jpg',invert_image)\n",
    "cv2.imshow('this is gray img',invert_image)\n",
    "cv2.waitKey()\n",
    "print('Hey!')"
   ]
  },
  {
   "cell_type": "code",
   "execution_count": null,
   "metadata": {},
   "outputs": [],
   "source": [
    "#blur the img\n",
    "blur=cv2.GaussianBlur(invert_image,(21,21),0)\n",
    "#save it with a new name\n",
    "cv2.imwrite('me3.jpg',blur)"
   ]
  },
  {
   "cell_type": "code",
   "execution_count": null,
   "metadata": {},
   "outputs": [],
   "source": [
    "#invert the blurred img\n",
    "invert_blur=255-blur\n",
    "#save it with a new name\n",
    "cv2.imwrite('me4.jpg',invert_blur)"
   ]
  },
  {
   "cell_type": "code",
   "execution_count": null,
   "metadata": {},
   "outputs": [],
   "source": [
    "#pencil sketch\n",
    "pencil_sketch=cv2.divide(gr_image,invert_blur,scale=256.0)\n",
    "#save it with a new name\n",
    "cv2.imwrite('me5.jpg',pencil_sketch)"
   ]
  },
  {
   "cell_type": "code",
   "execution_count": null,
   "metadata": {},
   "outputs": [],
   "source": [
    "#show all images\n",
    "cv2.imshow('original image is',img)\n",
    "cv2.imshow('gray image is',gr_image)\n",
    "cv2.imshow('inverted image is',invert_image)\n",
    "cv2.imshow('blurred image is',blur)\n",
    "cv2.imshow('inverted blur image is',invert_blur)\n",
    "cv2.imshow('pencil sketch image is',pencil_sketch)\n",
    "\n",
    "cv2.waitKey()\n",
    "print('Hey!')"
   ]
  }
 ],
 "metadata": {
  "kernelspec": {
   "display_name": "Python 3",
   "language": "python",
   "name": "python3"
  },
  "language_info": {
   "codemirror_mode": {
    "name": "ipython",
    "version": 3
   },
   "file_extension": ".py",
   "mimetype": "text/x-python",
   "name": "python",
   "nbconvert_exporter": "python",
   "pygments_lexer": "ipython3",
   "version": "3.8.5"
  }
 },
 "nbformat": 4,
 "nbformat_minor": 4
}
